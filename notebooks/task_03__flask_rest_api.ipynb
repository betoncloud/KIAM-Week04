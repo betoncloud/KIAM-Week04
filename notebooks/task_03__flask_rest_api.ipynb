{
 "cells": [
  {
   "cell_type": "markdown",
   "metadata": {},
   "source": [
    "import sys\n",
    "import os\n",
    "import pandas as pd\n",
    "import numpy as np\n",
    "import matplotlib.pyplot as plt\n",
    "import seaborn as sns\n",
    "import logging\n",
    "import warnings\n",
    "warnings.filterwarnings('ignore')"
   ]
  },
  {
   "cell_type": "code",
   "execution_count": null,
   "metadata": {},
   "outputs": [],
   "source": [
    "from flask import Flask, request, jsonify\n",
    "from scripts.load_data import load_data\n",
    "import joblib\n",
    "import numpy as np\n",
    "import pandas as pd\n",
    "\n",
    "# Initialize the Flask app\n",
    "app = Flask(__name__)\n",
    "\n",
    "# Load the trained model (replace with your actual model path)\n",
    "model_filename = \"10-08-2020-16-32-31-123456.pkl\"  # Replace with your model's file path\n",
    "model = joblib.load(model_filename)\n",
    "\n",
    "# Define the prediction function\n",
    "def make_prediction(data):\n",
    "    preprocessed_data = load_data('train_scaled.csv')\n",
    " \n",
    "    prediction = model.predict(preprocessed_data)\n",
    "    return prediction[0]  # Assuming single output prediction\n",
    "\n",
    "# Define an API endpoint for making predictions\n",
    "@app.route('/predict', methods=['POST'])\n",
    "def predict():\n",
    "    try:\n",
    "        # Get the data from the request\n",
    "        input_data = request.get_json()  # Get the data as JSON\n",
    "        \n",
    "        # Ensure input data is present\n",
    "        if not input_data:\n",
    "            return jsonify({\"error\": \"No input data provided\"}), 400\n",
    "        \n",
    "        # Make a prediction using the pre-trained model\n",
    "        prediction = make_prediction(input_data)\n",
    "        \n",
    "        # Return the prediction as a JSON response\n",
    "        return jsonify({\"prediction\": prediction})\n",
    "    \n",
    "    except Exception as e:\n",
    "        return jsonify({\"error\": str(e)}), 500\n",
    "\n",
    "# Run the Flask app (this will start a web server)\n",
    "if __name__ == '__main__':\n",
    "    app.run(debug=True)"
   ]
  }
 ],
 "metadata": {
  "kernelspec": {
   "display_name": ".venv",
   "language": "python",
   "name": "python3"
  },
  "language_info": {
   "name": "python",
   "version": "3.11.2"
  }
 },
 "nbformat": 4,
 "nbformat_minor": 2
}
